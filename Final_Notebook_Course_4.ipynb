{
 "cells": [
  {
   "cell_type": "code",
   "execution_count": 43,
   "metadata": {},
   "outputs": [
    {
     "name": "stdout",
     "output_type": "stream",
     "text": [
      "Collecting bokeh"
     ]
    },
    {
     "name": "stderr",
     "output_type": "stream",
     "text": [
      "WARNING: You are using pip version 20.0.2; however, version 20.1.1 is available.\n",
      "You should consider upgrading via the 'c:\\users\\skillup 08\\desktop\\proj_env\\scripts\\python.exe -m pip install --upgrade pip' command.\n"
     ]
    },
    {
     "name": "stdout",
     "output_type": "stream",
     "text": [
      "\n",
      "  Downloading bokeh-2.1.0.tar.gz (19.3 MB)\n",
      "Requirement already satisfied: PyYAML>=3.10 in c:\\users\\skillup 08\\desktop\\proj_env\\lib\\site-packages (from bokeh) (5.3.1)\n",
      "Requirement already satisfied: python-dateutil>=2.1 in c:\\users\\skillup 08\\desktop\\proj_env\\lib\\site-packages (from bokeh) (2.8.1)\n",
      "Requirement already satisfied: Jinja2>=2.7 in c:\\users\\skillup 08\\desktop\\proj_env\\lib\\site-packages (from bokeh) (2.11.2)\n",
      "Requirement already satisfied: numpy>=1.11.3 in c:\\users\\skillup 08\\desktop\\proj_env\\lib\\site-packages (from bokeh) (1.18.5)\n",
      "Requirement already satisfied: pillow>=4.0 in c:\\users\\skillup 08\\desktop\\proj_env\\lib\\site-packages (from bokeh) (7.1.2)\n",
      "Collecting packaging>=16.8\n",
      "  Downloading packaging-20.4-py2.py3-none-any.whl (37 kB)\n",
      "Requirement already satisfied: tornado>=5.1 in c:\\users\\skillup 08\\desktop\\proj_env\\lib\\site-packages (from bokeh) (6.0.4)\n",
      "Collecting typing_extensions>=3.7.4\n",
      "  Downloading typing_extensions-3.7.4.2-py3-none-any.whl (22 kB)\n",
      "Requirement already satisfied: six>=1.5 in c:\\users\\skillup 08\\desktop\\proj_env\\lib\\site-packages (from python-dateutil>=2.1->bokeh) (1.14.0)\n",
      "Requirement already satisfied: MarkupSafe>=0.23 in c:\\users\\skillup 08\\desktop\\proj_env\\lib\\site-packages (from Jinja2>=2.7->bokeh) (1.1.1)\n",
      "Requirement already satisfied: pyparsing>=2.0.2 in c:\\users\\skillup 08\\desktop\\proj_env\\lib\\site-packages (from packaging>=16.8->bokeh) (2.4.7)\n",
      "Building wheels for collected packages: bokeh\n",
      "  Building wheel for bokeh (setup.py): started\n",
      "  Building wheel for bokeh (setup.py): finished with status 'done'\n",
      "  Created wheel for bokeh: filename=bokeh-2.1.0-py3-none-any.whl size=9246336 sha256=261326df046cbe180ff689f4c389eaa4a323ba84d3ff0ab7e770d4252aeab2fc\n",
      "  Stored in directory: c:\\users\\skillup 08\\appdata\\local\\pip\\cache\\wheels\\6e\\7f\\fc\\544514e953e6e672587fd3bb77ca4ff32a064c9d8712073dfa\n",
      "Successfully built bokeh\n",
      "Installing collected packages: packaging, typing-extensions, bokeh\n",
      "Successfully installed bokeh-2.1.0 packaging-20.4 typing-extensions-3.7.4.2\n"
     ]
    }
   ],
   "source": [
    "!pip install bokeh"
   ]
  },
  {
   "cell_type": "code",
   "execution_count": 64,
   "metadata": {},
   "outputs": [],
   "source": [
    "import pandas as pd\n",
    "import numpy as np\n",
    "from bokeh.io import push_notebook, output_file,show, output_notebook\n",
    "\n",
    "from bokeh.layouts import row\n",
    "\n",
    "from bokeh.plotting import figure\n",
    "import matplotlib.pyplot as plt"
   ]
  },
  {
   "cell_type": "code",
   "execution_count": 116,
   "metadata": {},
   "outputs": [],
   "source": [
    "df=pd.read_csv('Final_Data.csv')"
   ]
  },
  {
   "cell_type": "markdown",
   "metadata": {},
   "source": [
    "\n",
    "1- Create a dataframe that contains climate data and display using the method head(). Take a screenshot.\n",
    "\n",
    "2-\tGet the Mininum and Maximum temperatures. Display the first five rows of the dataframe. Take a screenshot.\n",
    "\n",
    "3-\tCreate a dataframe where HourlyStationPressure was greater than 29.35mm. Take a screenshot.\n",
    "\n",
    "4-\tUse the function make_dashboard to make a dashboard using Temperature, Humidity. Take a screenshot\n",
    "\n",
    "5-\tInput the link for your notebook generated from Watson Studio.\n"
   ]
  },
  {
   "cell_type": "markdown",
   "metadata": {},
   "source": [
    "## 1- Create a dataframe that contains climate data and display using the method head(). Take a screenshot."
   ]
  },
  {
   "cell_type": "code",
   "execution_count": 117,
   "metadata": {},
   "outputs": [
    {
     "data": {
      "text/html": [
       "<div>\n",
       "<style scoped>\n",
       "    .dataframe tbody tr th:only-of-type {\n",
       "        vertical-align: middle;\n",
       "    }\n",
       "\n",
       "    .dataframe tbody tr th {\n",
       "        vertical-align: top;\n",
       "    }\n",
       "\n",
       "    .dataframe thead th {\n",
       "        text-align: right;\n",
       "    }\n",
       "</style>\n",
       "<table border=\"1\" class=\"dataframe\">\n",
       "  <thead>\n",
       "    <tr style=\"text-align: right;\">\n",
       "      <th></th>\n",
       "      <th>STATION</th>\n",
       "      <th>STATION_NAME</th>\n",
       "      <th>ELEVATION</th>\n",
       "      <th>LATITUDE</th>\n",
       "      <th>LONGITUDE</th>\n",
       "      <th>DATE</th>\n",
       "      <th>reportType</th>\n",
       "      <th>Visibility</th>\n",
       "      <th>Temperature</th>\n",
       "      <th>Humidity</th>\n",
       "      <th>WindSpeed</th>\n",
       "      <th>HourlyWindDirection</th>\n",
       "      <th>HourlyStationPressure</th>\n",
       "      <th>HourlySeaLevelPressure</th>\n",
       "      <th>HourlyAltimeterSetting</th>\n",
       "      <th>DailySunrise</th>\n",
       "      <th>DailySunset</th>\n",
       "    </tr>\n",
       "  </thead>\n",
       "  <tbody>\n",
       "    <tr>\n",
       "      <th>0</th>\n",
       "      <td>WBAN:94846</td>\n",
       "      <td>CHICAGO OHARE INTERNATIONAL AIRPORT IL US</td>\n",
       "      <td>201.8</td>\n",
       "      <td>41.995</td>\n",
       "      <td>-87.9336</td>\n",
       "      <td>01-03-2014 00:51</td>\n",
       "      <td>FM-15</td>\n",
       "      <td>10.00</td>\n",
       "      <td>30</td>\n",
       "      <td>56</td>\n",
       "      <td>9</td>\n",
       "      <td>330</td>\n",
       "      <td>29.28</td>\n",
       "      <td>30.02</td>\n",
       "      <td>30.00</td>\n",
       "      <td>1227</td>\n",
       "      <td>2342</td>\n",
       "    </tr>\n",
       "    <tr>\n",
       "      <th>1</th>\n",
       "      <td>WBAN:94846</td>\n",
       "      <td>CHICAGO OHARE INTERNATIONAL AIRPORT IL US</td>\n",
       "      <td>201.8</td>\n",
       "      <td>41.995</td>\n",
       "      <td>-87.9336</td>\n",
       "      <td>01-03-2014 01:51</td>\n",
       "      <td>FM-15</td>\n",
       "      <td>10.00</td>\n",
       "      <td>30</td>\n",
       "      <td>58</td>\n",
       "      <td>0</td>\n",
       "      <td>0</td>\n",
       "      <td>29.27</td>\n",
       "      <td>30.02</td>\n",
       "      <td>29.99</td>\n",
       "      <td>1227</td>\n",
       "      <td>2342</td>\n",
       "    </tr>\n",
       "    <tr>\n",
       "      <th>2</th>\n",
       "      <td>WBAN:94846</td>\n",
       "      <td>CHICAGO OHARE INTERNATIONAL AIRPORT IL US</td>\n",
       "      <td>201.8</td>\n",
       "      <td>41.995</td>\n",
       "      <td>-87.9336</td>\n",
       "      <td>01-03-2014 02:51</td>\n",
       "      <td>FM-15</td>\n",
       "      <td>6.00</td>\n",
       "      <td>29</td>\n",
       "      <td>72</td>\n",
       "      <td>8</td>\n",
       "      <td>330</td>\n",
       "      <td>29.28</td>\n",
       "      <td>30.02</td>\n",
       "      <td>30.00</td>\n",
       "      <td>1227</td>\n",
       "      <td>2342</td>\n",
       "    </tr>\n",
       "    <tr>\n",
       "      <th>3</th>\n",
       "      <td>WBAN:94846</td>\n",
       "      <td>CHICAGO OHARE INTERNATIONAL AIRPORT IL US</td>\n",
       "      <td>201.8</td>\n",
       "      <td>41.995</td>\n",
       "      <td>-87.9336</td>\n",
       "      <td>01-03-2014 03:51</td>\n",
       "      <td>FM-15</td>\n",
       "      <td>0.75</td>\n",
       "      <td>28</td>\n",
       "      <td>81</td>\n",
       "      <td>0</td>\n",
       "      <td>0</td>\n",
       "      <td>29.29</td>\n",
       "      <td>30.04</td>\n",
       "      <td>30.01</td>\n",
       "      <td>1227</td>\n",
       "      <td>2342</td>\n",
       "    </tr>\n",
       "    <tr>\n",
       "      <th>4</th>\n",
       "      <td>WBAN:94846</td>\n",
       "      <td>CHICAGO OHARE INTERNATIONAL AIRPORT IL US</td>\n",
       "      <td>201.8</td>\n",
       "      <td>41.995</td>\n",
       "      <td>-87.9336</td>\n",
       "      <td>01-03-2014 04:51</td>\n",
       "      <td>FM-15</td>\n",
       "      <td>10.00</td>\n",
       "      <td>26</td>\n",
       "      <td>78</td>\n",
       "      <td>11</td>\n",
       "      <td>350</td>\n",
       "      <td>29.32</td>\n",
       "      <td>30.06</td>\n",
       "      <td>30.04</td>\n",
       "      <td>1227</td>\n",
       "      <td>2342</td>\n",
       "    </tr>\n",
       "  </tbody>\n",
       "</table>\n",
       "</div>"
      ],
      "text/plain": [
       "      STATION                               STATION_NAME  ELEVATION  LATITUDE  \\\n",
       "0  WBAN:94846  CHICAGO OHARE INTERNATIONAL AIRPORT IL US      201.8    41.995   \n",
       "1  WBAN:94846  CHICAGO OHARE INTERNATIONAL AIRPORT IL US      201.8    41.995   \n",
       "2  WBAN:94846  CHICAGO OHARE INTERNATIONAL AIRPORT IL US      201.8    41.995   \n",
       "3  WBAN:94846  CHICAGO OHARE INTERNATIONAL AIRPORT IL US      201.8    41.995   \n",
       "4  WBAN:94846  CHICAGO OHARE INTERNATIONAL AIRPORT IL US      201.8    41.995   \n",
       "\n",
       "   LONGITUDE              DATE reportType  Visibility  Temperature  Humidity  \\\n",
       "0   -87.9336  01-03-2014 00:51      FM-15       10.00           30        56   \n",
       "1   -87.9336  01-03-2014 01:51      FM-15       10.00           30        58   \n",
       "2   -87.9336  01-03-2014 02:51      FM-15        6.00           29        72   \n",
       "3   -87.9336  01-03-2014 03:51      FM-15        0.75           28        81   \n",
       "4   -87.9336  01-03-2014 04:51      FM-15       10.00           26        78   \n",
       "\n",
       "   WindSpeed  HourlyWindDirection  HourlyStationPressure  \\\n",
       "0          9                  330                  29.28   \n",
       "1          0                    0                  29.27   \n",
       "2          8                  330                  29.28   \n",
       "3          0                    0                  29.29   \n",
       "4         11                  350                  29.32   \n",
       "\n",
       "   HourlySeaLevelPressure  HourlyAltimeterSetting  DailySunrise  DailySunset  \n",
       "0                   30.02                   30.00          1227         2342  \n",
       "1                   30.02                   29.99          1227         2342  \n",
       "2                   30.02                   30.00          1227         2342  \n",
       "3                   30.04                   30.01          1227         2342  \n",
       "4                   30.06                   30.04          1227         2342  "
      ]
     },
     "execution_count": 117,
     "metadata": {},
     "output_type": "execute_result"
    }
   ],
   "source": [
    "df.head()"
   ]
  },
  {
   "cell_type": "markdown",
   "metadata": {},
   "source": [
    "## 2- Get the Mininum and Maximum temperatures. Display the first five rows of the dataframe. Take a screenshot."
   ]
  },
  {
   "cell_type": "code",
   "execution_count": 118,
   "metadata": {},
   "outputs": [
    {
     "name": "stdout",
     "output_type": "stream",
     "text": [
      "Minimum Temperatire -1\n"
     ]
    }
   ],
   "source": [
    "print(\"Minimum Temperatire {0}\".format(df.Temperature.min()))"
   ]
  },
  {
   "cell_type": "code",
   "execution_count": 119,
   "metadata": {},
   "outputs": [
    {
     "name": "stdout",
     "output_type": "stream",
     "text": [
      "Maximum Temperatire 67\n"
     ]
    }
   ],
   "source": [
    "print(\"Maximum Temperatire {0}\".format(df.Temperature.max()))"
   ]
  },
  {
   "cell_type": "code",
   "execution_count": 120,
   "metadata": {},
   "outputs": [
    {
     "data": {
      "text/html": [
       "<div>\n",
       "<style scoped>\n",
       "    .dataframe tbody tr th:only-of-type {\n",
       "        vertical-align: middle;\n",
       "    }\n",
       "\n",
       "    .dataframe tbody tr th {\n",
       "        vertical-align: top;\n",
       "    }\n",
       "\n",
       "    .dataframe thead th {\n",
       "        text-align: right;\n",
       "    }\n",
       "</style>\n",
       "<table border=\"1\" class=\"dataframe\">\n",
       "  <thead>\n",
       "    <tr style=\"text-align: right;\">\n",
       "      <th></th>\n",
       "      <th>STATION</th>\n",
       "      <th>STATION_NAME</th>\n",
       "      <th>ELEVATION</th>\n",
       "      <th>LATITUDE</th>\n",
       "      <th>LONGITUDE</th>\n",
       "      <th>DATE</th>\n",
       "      <th>reportType</th>\n",
       "      <th>Visibility</th>\n",
       "      <th>Temperature</th>\n",
       "      <th>Humidity</th>\n",
       "      <th>WindSpeed</th>\n",
       "      <th>HourlyWindDirection</th>\n",
       "      <th>HourlyStationPressure</th>\n",
       "      <th>HourlySeaLevelPressure</th>\n",
       "      <th>HourlyAltimeterSetting</th>\n",
       "      <th>DailySunrise</th>\n",
       "      <th>DailySunset</th>\n",
       "    </tr>\n",
       "  </thead>\n",
       "  <tbody>\n",
       "    <tr>\n",
       "      <th>0</th>\n",
       "      <td>WBAN:94846</td>\n",
       "      <td>CHICAGO OHARE INTERNATIONAL AIRPORT IL US</td>\n",
       "      <td>201.8</td>\n",
       "      <td>41.995</td>\n",
       "      <td>-87.9336</td>\n",
       "      <td>01-03-2014 00:51</td>\n",
       "      <td>FM-15</td>\n",
       "      <td>10.00</td>\n",
       "      <td>30</td>\n",
       "      <td>56</td>\n",
       "      <td>9</td>\n",
       "      <td>330</td>\n",
       "      <td>29.28</td>\n",
       "      <td>30.02</td>\n",
       "      <td>30.00</td>\n",
       "      <td>1227</td>\n",
       "      <td>2342</td>\n",
       "    </tr>\n",
       "    <tr>\n",
       "      <th>1</th>\n",
       "      <td>WBAN:94846</td>\n",
       "      <td>CHICAGO OHARE INTERNATIONAL AIRPORT IL US</td>\n",
       "      <td>201.8</td>\n",
       "      <td>41.995</td>\n",
       "      <td>-87.9336</td>\n",
       "      <td>01-03-2014 01:51</td>\n",
       "      <td>FM-15</td>\n",
       "      <td>10.00</td>\n",
       "      <td>30</td>\n",
       "      <td>58</td>\n",
       "      <td>0</td>\n",
       "      <td>0</td>\n",
       "      <td>29.27</td>\n",
       "      <td>30.02</td>\n",
       "      <td>29.99</td>\n",
       "      <td>1227</td>\n",
       "      <td>2342</td>\n",
       "    </tr>\n",
       "    <tr>\n",
       "      <th>2</th>\n",
       "      <td>WBAN:94846</td>\n",
       "      <td>CHICAGO OHARE INTERNATIONAL AIRPORT IL US</td>\n",
       "      <td>201.8</td>\n",
       "      <td>41.995</td>\n",
       "      <td>-87.9336</td>\n",
       "      <td>01-03-2014 02:51</td>\n",
       "      <td>FM-15</td>\n",
       "      <td>6.00</td>\n",
       "      <td>29</td>\n",
       "      <td>72</td>\n",
       "      <td>8</td>\n",
       "      <td>330</td>\n",
       "      <td>29.28</td>\n",
       "      <td>30.02</td>\n",
       "      <td>30.00</td>\n",
       "      <td>1227</td>\n",
       "      <td>2342</td>\n",
       "    </tr>\n",
       "    <tr>\n",
       "      <th>3</th>\n",
       "      <td>WBAN:94846</td>\n",
       "      <td>CHICAGO OHARE INTERNATIONAL AIRPORT IL US</td>\n",
       "      <td>201.8</td>\n",
       "      <td>41.995</td>\n",
       "      <td>-87.9336</td>\n",
       "      <td>01-03-2014 03:51</td>\n",
       "      <td>FM-15</td>\n",
       "      <td>0.75</td>\n",
       "      <td>28</td>\n",
       "      <td>81</td>\n",
       "      <td>0</td>\n",
       "      <td>0</td>\n",
       "      <td>29.29</td>\n",
       "      <td>30.04</td>\n",
       "      <td>30.01</td>\n",
       "      <td>1227</td>\n",
       "      <td>2342</td>\n",
       "    </tr>\n",
       "    <tr>\n",
       "      <th>4</th>\n",
       "      <td>WBAN:94846</td>\n",
       "      <td>CHICAGO OHARE INTERNATIONAL AIRPORT IL US</td>\n",
       "      <td>201.8</td>\n",
       "      <td>41.995</td>\n",
       "      <td>-87.9336</td>\n",
       "      <td>01-03-2014 04:51</td>\n",
       "      <td>FM-15</td>\n",
       "      <td>10.00</td>\n",
       "      <td>26</td>\n",
       "      <td>78</td>\n",
       "      <td>11</td>\n",
       "      <td>350</td>\n",
       "      <td>29.32</td>\n",
       "      <td>30.06</td>\n",
       "      <td>30.04</td>\n",
       "      <td>1227</td>\n",
       "      <td>2342</td>\n",
       "    </tr>\n",
       "  </tbody>\n",
       "</table>\n",
       "</div>"
      ],
      "text/plain": [
       "      STATION                               STATION_NAME  ELEVATION  LATITUDE  \\\n",
       "0  WBAN:94846  CHICAGO OHARE INTERNATIONAL AIRPORT IL US      201.8    41.995   \n",
       "1  WBAN:94846  CHICAGO OHARE INTERNATIONAL AIRPORT IL US      201.8    41.995   \n",
       "2  WBAN:94846  CHICAGO OHARE INTERNATIONAL AIRPORT IL US      201.8    41.995   \n",
       "3  WBAN:94846  CHICAGO OHARE INTERNATIONAL AIRPORT IL US      201.8    41.995   \n",
       "4  WBAN:94846  CHICAGO OHARE INTERNATIONAL AIRPORT IL US      201.8    41.995   \n",
       "\n",
       "   LONGITUDE              DATE reportType  Visibility  Temperature  Humidity  \\\n",
       "0   -87.9336  01-03-2014 00:51      FM-15       10.00           30        56   \n",
       "1   -87.9336  01-03-2014 01:51      FM-15       10.00           30        58   \n",
       "2   -87.9336  01-03-2014 02:51      FM-15        6.00           29        72   \n",
       "3   -87.9336  01-03-2014 03:51      FM-15        0.75           28        81   \n",
       "4   -87.9336  01-03-2014 04:51      FM-15       10.00           26        78   \n",
       "\n",
       "   WindSpeed  HourlyWindDirection  HourlyStationPressure  \\\n",
       "0          9                  330                  29.28   \n",
       "1          0                    0                  29.27   \n",
       "2          8                  330                  29.28   \n",
       "3          0                    0                  29.29   \n",
       "4         11                  350                  29.32   \n",
       "\n",
       "   HourlySeaLevelPressure  HourlyAltimeterSetting  DailySunrise  DailySunset  \n",
       "0                   30.02                   30.00          1227         2342  \n",
       "1                   30.02                   29.99          1227         2342  \n",
       "2                   30.02                   30.00          1227         2342  \n",
       "3                   30.04                   30.01          1227         2342  \n",
       "4                   30.06                   30.04          1227         2342  "
      ]
     },
     "execution_count": 120,
     "metadata": {},
     "output_type": "execute_result"
    }
   ],
   "source": [
    "df[:5]"
   ]
  },
  {
   "cell_type": "markdown",
   "metadata": {},
   "source": [
    "## 3- Create a dataframe where HourlyStationPressure was greater than 29.35mm. Take a screenshot."
   ]
  },
  {
   "cell_type": "code",
   "execution_count": 121,
   "metadata": {},
   "outputs": [],
   "source": [
    "data_subset=df[df.HourlyStationPressure > 29.35]"
   ]
  },
  {
   "cell_type": "code",
   "execution_count": 122,
   "metadata": {},
   "outputs": [
    {
     "data": {
      "text/plain": [
       "(365, 17)"
      ]
     },
     "execution_count": 122,
     "metadata": {},
     "output_type": "execute_result"
    }
   ],
   "source": [
    "data_subset.shape"
   ]
  },
  {
   "cell_type": "markdown",
   "metadata": {},
   "source": [
    "## 4- Use the function make_dashboard to make a dashboard using Temperature, Humidity. Take a screenshot"
   ]
  },
  {
   "cell_type": "code",
   "execution_count": 123,
   "metadata": {},
   "outputs": [],
   "source": [
    "def make_dashboard( Humidity, Temp,title, file_name):\n",
    "    output_file(file_name)\n",
    "    p = figure(title=title, x_axis_label='Humidity', y_axis_label='Temperature')\n",
    "    p.scatter(Humidity.squeeze(), Temp.squeeze())\n",
    "    #p.line(Humidity.squeeze(),WindSpeed.squeeze(), line_width=4, legend=\"Visibility\")\n",
    "    show(p)"
   ]
  },
  {
   "cell_type": "code",
   "execution_count": 124,
   "metadata": {},
   "outputs": [],
   "source": [
    "Humidity = df.Humidity"
   ]
  },
  {
   "cell_type": "code",
   "execution_count": 125,
   "metadata": {},
   "outputs": [],
   "source": [
    "Temperature=df.Temperature"
   ]
  },
  {
   "cell_type": "code",
   "execution_count": 126,
   "metadata": {},
   "outputs": [],
   "source": [
    "title='Humidity as per Temperature'"
   ]
  },
  {
   "cell_type": "code",
   "execution_count": 127,
   "metadata": {},
   "outputs": [],
   "source": [
    "\n",
    "file_name = \"index.html\""
   ]
  },
  {
   "cell_type": "code",
   "execution_count": 128,
   "metadata": {},
   "outputs": [],
   "source": [
    "make_dashboard(Humidity=Humidity, Temp=Temperature, title=title, file_name=file_name)"
   ]
  },
  {
   "cell_type": "code",
   "execution_count": null,
   "metadata": {},
   "outputs": [],
   "source": []
  }
 ],
 "metadata": {
  "kernelspec": {
   "display_name": "Python 3",
   "language": "python",
   "name": "python3"
  },
  "language_info": {
   "codemirror_mode": {
    "name": "ipython",
    "version": 3
   },
   "file_extension": ".py",
   "mimetype": "text/x-python",
   "name": "python",
   "nbconvert_exporter": "python",
   "pygments_lexer": "ipython3",
   "version": "3.7.6"
  }
 },
 "nbformat": 4,
 "nbformat_minor": 4
}
