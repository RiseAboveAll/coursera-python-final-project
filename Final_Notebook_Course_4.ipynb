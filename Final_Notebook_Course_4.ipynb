{
 "cells": [
  {
   "cell_type": "markdown",
   "metadata": {},
   "source": [
    "<a><img src=\"https://ibm.box.com/shared/static/ugcqz6ohbvff804xp84y4kqnvvk3bq1g.png\" width=\"200\" align=\"center\"></a>"
   ]
  },
  {
   "cell_type": "markdown",
   "metadata": {},
   "source": [
    "<h1>Analyzing US Hourly Climate Data and  Building a Dashboard  </h1>\n",
    "<h2>Description</h2>\n",
    "\n"
   ]
  },
  {
   "cell_type": "markdown",
   "metadata": {},
   "source": [
    "Extracting essential data from a dataset and displaying it is a necessary part of data science; therefore individuals can make correct decisions based on the data. In this assignment, you will extract some essential climate indicators from some data, you will then display these indicators in a Dashboard. You can then share the dashboard via an URL.\n",
    "\n",
    "\n",
    "        - **STATION** (17 characters) is the station identification code\n",
    "    \n",
    "        - **STATION_NAME**  is the name of the station (usually city/airport name).\n",
    "    \n",
    "        - **Date** is the date and time of recording the climate data\n",
    "        \n",
    "        - **Latitude** & **Latitude** are the Geo-Location of the place\n",
    "        \n",
    "        - **Temperature** Temperature recorded in Fahrenheit\n",
    "        \n",
    "        - **WindSpeed** speed of wind recorded\n",
    "        \n",
    "        - **HourlyWindDirection** Direction of wind "
   ]
  },
  {
   "cell_type": "markdown",
   "metadata": {},
   "source": [
    "<h2>Table of Contents</h2>\n",
    "<div class=\"alert alert-block alert-info\" style=\"margin-top: 20px\">\n",
    "    <ul>\n",
    "        <li><a href=\"#Section_1\"> Define a Function that Makes a Dashboard </a></li>\n",
    "    <li><a href=\"#Section_2\">Question 1: Create a dataframe that contains climate data and display using the method head(). Take a screenshot.</a> </li>\n",
    "    <li><a href=\"#Section_3\">Question 2: Get the Mininum and Maximum temperatures. Display the first five rows of the dataframe. Take a screenshot</a></li>\n",
    "    <li><a href=\"#Section_4\">Question 3: Create a dataframe where HourlyStationPressure was greater than 29.35mm. Take a screenshot.</a></li>\n",
    "    <li><a href=\"#Section_5\">Question 4: 4- Use the function make_dashboard to make a dashboard using Temperature, Humidity. Take a screenshot</a></li>\n",
    "        <li><a href=\"#Section_6\"><b>(Optional not marked)</b> Save the dashboard on IBM cloud and display it</a></li>\n",
    "    </ul>\n",
    "<p>\n",
    "    Estimated Time Needed: <strong>180 min</strong></p>\n",
    "</div>\n",
    "\n",
    "<hr>"
   ]
  },
  {
   "cell_type": "markdown",
   "metadata": {},
   "source": [
    "## Importing csv file from GitHub"
   ]
  },
  {
   "cell_type": "code",
   "execution_count": 53,
   "metadata": {},
   "outputs": [
    {
     "name": "stderr",
     "output_type": "stream",
     "text": [
      "  % Total    % Received % Xferd  Average Speed   Time    Time     Time  Current\n",
      "                                 Dload  Upload   Total   Spent    Left  Speed\n",
      "\n",
      "  0     0    0     0    0     0      0      0 --:--:-- --:--:-- --:--:--     0\n",
      "100  105k  100  105k    0     0   205k      0 --:--:-- --:--:-- --:--:--  206k\n",
      "  % Total    % Received % Xferd  Average Speed   Time    Time     Time  Current\n",
      "                                 Dload  Upload   Total   Spent    Left  Speed\n",
      "\n",
      "  0     0    0     0    0     0      0      0 --:--:-- --:--:-- --:--:--     0curl: (6) Could not resolve host: Final_Data.csv\n"
     ]
    }
   ],
   "source": [
    "!curl -O https://raw.githubusercontent.com/hskillup/coursera-python-final-project/master/fdata.csv train.csv"
   ]
  },
  {
   "cell_type": "code",
   "execution_count": 1,
   "metadata": {
    "scrolled": true
   },
   "outputs": [
    {
     "name": "stdout",
     "output_type": "stream",
     "text": [
      "Requirement already satisfied: bokeh in c:\\users\\skillup 08\\desktop\\proj_env\\lib\\site-packages (2.1.0)\n",
      "Requirement already satisfied: PyYAML>=3.10 in c:\\users\\skillup 08\\desktop\\proj_env\\lib\\site-packages (from bokeh) (5.3.1)\n",
      "Requirement already satisfied: Jinja2>=2.7 in c:\\users\\skillup 08\\desktop\\proj_env\\lib\\site-packages (from bokeh) (2.11.2)\n",
      "Requirement already satisfied: tornado>=5.1 in c:\\users\\skillup 08\\desktop\\proj_env\\lib\\site-packages (from bokeh) (6.0.4)\n",
      "Requirement already satisfied: numpy>=1.11.3 in c:\\users\\skillup 08\\desktop\\proj_env\\lib\\site-packages (from bokeh) (1.18.5)\n",
      "Requirement already satisfied: typing-extensions>=3.7.4 in c:\\users\\skillup 08\\desktop\\proj_env\\lib\\site-packages (from bokeh) (3.7.4.2)\n",
      "Requirement already satisfied: pillow>=4.0 in c:\\users\\skillup 08\\desktop\\proj_env\\lib\\site-packages (from bokeh) (7.1.2)\n",
      "Requirement already satisfied: packaging>=16.8 in c:\\users\\skillup 08\\desktop\\proj_env\\lib\\site-packages (from bokeh) (20.4)\n",
      "Requirement already satisfied: python-dateutil>=2.1 in c:\\users\\skillup 08\\desktop\\proj_env\\lib\\site-packages (from bokeh) (2.8.1)\n",
      "Requirement already satisfied: MarkupSafe>=0.23 in c:\\users\\skillup 08\\desktop\\proj_env\\lib\\site-packages (from Jinja2>=2.7->bokeh) (1.1.1)\n",
      "Requirement already satisfied: six in c:\\users\\skillup 08\\desktop\\proj_env\\lib\\site-packages (from packaging>=16.8->bokeh) (1.14.0)\n",
      "Requirement already satisfied: pyparsing>=2.0.2 in c:\\users\\skillup 08\\desktop\\proj_env\\lib\\site-packages (from packaging>=16.8->bokeh) (2.4.7)\n"
     ]
    },
    {
     "name": "stderr",
     "output_type": "stream",
     "text": [
      "WARNING: You are using pip version 20.0.2; however, version 20.1.1 is available.\n",
      "You should consider upgrading via the 'c:\\users\\skillup 08\\desktop\\proj_env\\scripts\\python.exe -m pip install --upgrade pip' command.\n"
     ]
    }
   ],
   "source": [
    "!pip install bokeh"
   ]
  },
  {
   "cell_type": "code",
   "execution_count": 1,
   "metadata": {},
   "outputs": [],
   "source": [
    "import pandas as pd\n",
    "import numpy as np\n",
    "from bokeh.io import push_notebook, output_file,show, output_notebook\n",
    "\n",
    "from bokeh.layouts import row\n",
    "\n",
    "from bokeh.plotting import figure\n",
    "import matplotlib.pyplot as plt"
   ]
  },
  {
   "cell_type": "code",
   "execution_count": 3,
   "metadata": {},
   "outputs": [],
   "source": [
    "df=pd.read_csv('train.csv')"
   ]
  },
  {
   "cell_type": "markdown",
   "metadata": {},
   "source": [
    "\n",
    "1- Create a dataframe that contains climate data and display using the method head(). Take a screenshot.\n",
    "\n",
    "2-\tGet the Mininum and Maximum temperatures. Display the first five rows of the dataframe. Take a screenshot.\n",
    "\n",
    "3-\tCreate a dataframe where HourlyStationPressure was greater than 29.35mm. Take a screenshot.\n",
    "\n",
    "4-\tUse the function make_dashboard to make a dashboard using Temperature, Humidity. Take a screenshot\n",
    "\n",
    "5-\tInput the link for your notebook generated from Watson Studio.\n"
   ]
  },
  {
   "cell_type": "markdown",
   "metadata": {},
   "source": [
    "## 1- Create a dataframe that contains climate data and display using the method head(). Take a screenshot."
   ]
  },
  {
   "cell_type": "code",
   "execution_count": 4,
   "metadata": {},
   "outputs": [
    {
     "data": {
      "text/html": [
       "<div>\n",
       "<style scoped>\n",
       "    .dataframe tbody tr th:only-of-type {\n",
       "        vertical-align: middle;\n",
       "    }\n",
       "\n",
       "    .dataframe tbody tr th {\n",
       "        vertical-align: top;\n",
       "    }\n",
       "\n",
       "    .dataframe thead th {\n",
       "        text-align: right;\n",
       "    }\n",
       "</style>\n",
       "<table border=\"1\" class=\"dataframe\">\n",
       "  <thead>\n",
       "    <tr style=\"text-align: right;\">\n",
       "      <th></th>\n",
       "      <th>Unnamed: 0</th>\n",
       "      <th>STATION</th>\n",
       "      <th>STATION_NAME</th>\n",
       "      <th>DATE</th>\n",
       "      <th>Visibility</th>\n",
       "      <th>Temperature</th>\n",
       "      <th>Humidity</th>\n",
       "      <th>WindSpeed</th>\n",
       "      <th>HourlyWindDirection</th>\n",
       "    </tr>\n",
       "  </thead>\n",
       "  <tbody>\n",
       "    <tr>\n",
       "      <th>0</th>\n",
       "      <td>0</td>\n",
       "      <td>WBAN:94846</td>\n",
       "      <td>CHICAGO OHARE INTERNATIONAL AIRPORT IL US</td>\n",
       "      <td>01-03-2014 00:51</td>\n",
       "      <td>10.00</td>\n",
       "      <td>30</td>\n",
       "      <td>56</td>\n",
       "      <td>9</td>\n",
       "      <td>330</td>\n",
       "    </tr>\n",
       "    <tr>\n",
       "      <th>1</th>\n",
       "      <td>1</td>\n",
       "      <td>WBAN:94846</td>\n",
       "      <td>CHICAGO OHARE INTERNATIONAL AIRPORT IL US</td>\n",
       "      <td>01-03-2014 01:51</td>\n",
       "      <td>10.00</td>\n",
       "      <td>30</td>\n",
       "      <td>58</td>\n",
       "      <td>0</td>\n",
       "      <td>0</td>\n",
       "    </tr>\n",
       "    <tr>\n",
       "      <th>2</th>\n",
       "      <td>2</td>\n",
       "      <td>WBAN:94846</td>\n",
       "      <td>CHICAGO OHARE INTERNATIONAL AIRPORT IL US</td>\n",
       "      <td>01-03-2014 02:51</td>\n",
       "      <td>6.00</td>\n",
       "      <td>29</td>\n",
       "      <td>72</td>\n",
       "      <td>8</td>\n",
       "      <td>330</td>\n",
       "    </tr>\n",
       "    <tr>\n",
       "      <th>3</th>\n",
       "      <td>3</td>\n",
       "      <td>WBAN:94846</td>\n",
       "      <td>CHICAGO OHARE INTERNATIONAL AIRPORT IL US</td>\n",
       "      <td>01-03-2014 03:51</td>\n",
       "      <td>0.75</td>\n",
       "      <td>28</td>\n",
       "      <td>81</td>\n",
       "      <td>0</td>\n",
       "      <td>0</td>\n",
       "    </tr>\n",
       "    <tr>\n",
       "      <th>4</th>\n",
       "      <td>4</td>\n",
       "      <td>WBAN:94846</td>\n",
       "      <td>CHICAGO OHARE INTERNATIONAL AIRPORT IL US</td>\n",
       "      <td>01-03-2014 04:51</td>\n",
       "      <td>10.00</td>\n",
       "      <td>26</td>\n",
       "      <td>78</td>\n",
       "      <td>11</td>\n",
       "      <td>350</td>\n",
       "    </tr>\n",
       "  </tbody>\n",
       "</table>\n",
       "</div>"
      ],
      "text/plain": [
       "   Unnamed: 0     STATION                               STATION_NAME  \\\n",
       "0           0  WBAN:94846  CHICAGO OHARE INTERNATIONAL AIRPORT IL US   \n",
       "1           1  WBAN:94846  CHICAGO OHARE INTERNATIONAL AIRPORT IL US   \n",
       "2           2  WBAN:94846  CHICAGO OHARE INTERNATIONAL AIRPORT IL US   \n",
       "3           3  WBAN:94846  CHICAGO OHARE INTERNATIONAL AIRPORT IL US   \n",
       "4           4  WBAN:94846  CHICAGO OHARE INTERNATIONAL AIRPORT IL US   \n",
       "\n",
       "               DATE  Visibility  Temperature  Humidity  WindSpeed  \\\n",
       "0  01-03-2014 00:51       10.00           30        56          9   \n",
       "1  01-03-2014 01:51       10.00           30        58          0   \n",
       "2  01-03-2014 02:51        6.00           29        72          8   \n",
       "3  01-03-2014 03:51        0.75           28        81          0   \n",
       "4  01-03-2014 04:51       10.00           26        78         11   \n",
       "\n",
       "   HourlyWindDirection  \n",
       "0                  330  \n",
       "1                    0  \n",
       "2                  330  \n",
       "3                    0  \n",
       "4                  350  "
      ]
     },
     "execution_count": 4,
     "metadata": {},
     "output_type": "execute_result"
    }
   ],
   "source": [
    "df.head()"
   ]
  },
  {
   "cell_type": "code",
   "execution_count": null,
   "metadata": {},
   "outputs": [],
   "source": []
  },
  {
   "cell_type": "markdown",
   "metadata": {},
   "source": [
    "## 2- Display all the rows with Mininum and Maximum temperatures recorded. Then take a screenshot "
   ]
  },
  {
   "cell_type": "code",
   "execution_count": 28,
   "metadata": {},
   "outputs": [
    {
     "name": "stdout",
     "output_type": "stream",
     "text": [
      "-1\n"
     ]
    }
   ],
   "source": [
    "print(df.Temperature.min())"
   ]
  },
  {
   "cell_type": "code",
   "execution_count": 26,
   "metadata": {},
   "outputs": [],
   "source": [
    "subset_df=df[(df.Temperature==df.Temperature.min()) | (df.Temperature==df.Temperature.max())]"
   ]
  },
  {
   "cell_type": "code",
   "execution_count": 27,
   "metadata": {},
   "outputs": [
    {
     "data": {
      "text/html": [
       "<div>\n",
       "<style scoped>\n",
       "    .dataframe tbody tr th:only-of-type {\n",
       "        vertical-align: middle;\n",
       "    }\n",
       "\n",
       "    .dataframe tbody tr th {\n",
       "        vertical-align: top;\n",
       "    }\n",
       "\n",
       "    .dataframe thead th {\n",
       "        text-align: right;\n",
       "    }\n",
       "</style>\n",
       "<table border=\"1\" class=\"dataframe\">\n",
       "  <thead>\n",
       "    <tr style=\"text-align: right;\">\n",
       "      <th></th>\n",
       "      <th>Unnamed: 0</th>\n",
       "      <th>STATION</th>\n",
       "      <th>STATION_NAME</th>\n",
       "      <th>DATE</th>\n",
       "      <th>Visibility</th>\n",
       "      <th>Temperature</th>\n",
       "      <th>Humidity</th>\n",
       "      <th>WindSpeed</th>\n",
       "      <th>HourlyWindDirection</th>\n",
       "    </tr>\n",
       "  </thead>\n",
       "  <tbody>\n",
       "    <tr>\n",
       "      <th>53</th>\n",
       "      <td>53</td>\n",
       "      <td>WBAN:94846</td>\n",
       "      <td>CHICAGO OHARE INTERNATIONAL AIRPORT IL US</td>\n",
       "      <td>03-03-2014 03:51</td>\n",
       "      <td>10.0</td>\n",
       "      <td>-1</td>\n",
       "      <td>46</td>\n",
       "      <td>9</td>\n",
       "      <td>350</td>\n",
       "    </tr>\n",
       "    <tr>\n",
       "      <th>54</th>\n",
       "      <td>54</td>\n",
       "      <td>WBAN:94846</td>\n",
       "      <td>CHICAGO OHARE INTERNATIONAL AIRPORT IL US</td>\n",
       "      <td>03-03-2014 04:51</td>\n",
       "      <td>10.0</td>\n",
       "      <td>-1</td>\n",
       "      <td>46</td>\n",
       "      <td>13</td>\n",
       "      <td>350</td>\n",
       "    </tr>\n",
       "    <tr>\n",
       "      <th>55</th>\n",
       "      <td>55</td>\n",
       "      <td>WBAN:94846</td>\n",
       "      <td>CHICAGO OHARE INTERNATIONAL AIRPORT IL US</td>\n",
       "      <td>03-03-2014 05:51</td>\n",
       "      <td>10.0</td>\n",
       "      <td>-1</td>\n",
       "      <td>51</td>\n",
       "      <td>11</td>\n",
       "      <td>340</td>\n",
       "    </tr>\n",
       "    <tr>\n",
       "      <th>762</th>\n",
       "      <td>762</td>\n",
       "      <td>WBAN:94846</td>\n",
       "      <td>CHICAGO OHARE INTERNATIONAL AIRPORT IL US</td>\n",
       "      <td>31-03-2014 12:51</td>\n",
       "      <td>10.0</td>\n",
       "      <td>67</td>\n",
       "      <td>24</td>\n",
       "      <td>23</td>\n",
       "      <td>160</td>\n",
       "    </tr>\n",
       "    <tr>\n",
       "      <th>763</th>\n",
       "      <td>763</td>\n",
       "      <td>WBAN:94846</td>\n",
       "      <td>CHICAGO OHARE INTERNATIONAL AIRPORT IL US</td>\n",
       "      <td>31-03-2014 13:51</td>\n",
       "      <td>10.0</td>\n",
       "      <td>67</td>\n",
       "      <td>25</td>\n",
       "      <td>26</td>\n",
       "      <td>170</td>\n",
       "    </tr>\n",
       "  </tbody>\n",
       "</table>\n",
       "</div>"
      ],
      "text/plain": [
       "     Unnamed: 0     STATION                               STATION_NAME  \\\n",
       "53           53  WBAN:94846  CHICAGO OHARE INTERNATIONAL AIRPORT IL US   \n",
       "54           54  WBAN:94846  CHICAGO OHARE INTERNATIONAL AIRPORT IL US   \n",
       "55           55  WBAN:94846  CHICAGO OHARE INTERNATIONAL AIRPORT IL US   \n",
       "762         762  WBAN:94846  CHICAGO OHARE INTERNATIONAL AIRPORT IL US   \n",
       "763         763  WBAN:94846  CHICAGO OHARE INTERNATIONAL AIRPORT IL US   \n",
       "\n",
       "                 DATE  Visibility  Temperature  Humidity  WindSpeed  \\\n",
       "53   03-03-2014 03:51        10.0           -1        46          9   \n",
       "54   03-03-2014 04:51        10.0           -1        46         13   \n",
       "55   03-03-2014 05:51        10.0           -1        51         11   \n",
       "762  31-03-2014 12:51        10.0           67        24         23   \n",
       "763  31-03-2014 13:51        10.0           67        25         26   \n",
       "\n",
       "     HourlyWindDirection  \n",
       "53                   350  \n",
       "54                   350  \n",
       "55                   340  \n",
       "762                  160  \n",
       "763                  170  "
      ]
     },
     "execution_count": 27,
     "metadata": {},
     "output_type": "execute_result"
    }
   ],
   "source": [
    "subset_df"
   ]
  },
  {
   "cell_type": "markdown",
   "metadata": {},
   "source": [
    "## 3- Using value_counts() function, create a dataframe that displays the top 5 visibility readings. Take a screenshot."
   ]
  },
  {
   "cell_type": "code",
   "execution_count": 43,
   "metadata": {},
   "outputs": [],
   "source": [
    "Topvisibility=df.Visibility.value_counts()[:4].to_frame()"
   ]
  },
  {
   "cell_type": "code",
   "execution_count": 44,
   "metadata": {},
   "outputs": [
    {
     "data": {
      "text/html": [
       "<div>\n",
       "<style scoped>\n",
       "    .dataframe tbody tr th:only-of-type {\n",
       "        vertical-align: middle;\n",
       "    }\n",
       "\n",
       "    .dataframe tbody tr th {\n",
       "        vertical-align: top;\n",
       "    }\n",
       "\n",
       "    .dataframe thead th {\n",
       "        text-align: right;\n",
       "    }\n",
       "</style>\n",
       "<table border=\"1\" class=\"dataframe\">\n",
       "  <thead>\n",
       "    <tr style=\"text-align: right;\">\n",
       "      <th></th>\n",
       "      <th>Visibility</th>\n",
       "    </tr>\n",
       "  </thead>\n",
       "  <tbody>\n",
       "    <tr>\n",
       "      <th>10.0</th>\n",
       "      <td>648</td>\n",
       "    </tr>\n",
       "    <tr>\n",
       "      <th>8.0</th>\n",
       "      <td>23</td>\n",
       "    </tr>\n",
       "    <tr>\n",
       "      <th>9.0</th>\n",
       "      <td>16</td>\n",
       "    </tr>\n",
       "    <tr>\n",
       "      <th>6.0</th>\n",
       "      <td>16</td>\n",
       "    </tr>\n",
       "    <tr>\n",
       "      <th>4.0</th>\n",
       "      <td>13</td>\n",
       "    </tr>\n",
       "  </tbody>\n",
       "</table>\n",
       "</div>"
      ],
      "text/plain": [
       "      Visibility\n",
       "10.0         648\n",
       "8.0           23\n",
       "9.0           16\n",
       "6.0           16\n",
       "4.0           13"
      ]
     },
     "execution_count": 44,
     "metadata": {},
     "output_type": "execute_result"
    }
   ],
   "source": [
    "Topvisibility"
   ]
  },
  {
   "cell_type": "code",
   "execution_count": null,
   "metadata": {},
   "outputs": [],
   "source": []
  },
  {
   "cell_type": "markdown",
   "metadata": {},
   "source": [
    "## 4- Use the function make_dashboard to make a dashboard using Temperature, Humidity. Take a screenshot"
   ]
  },
  {
   "cell_type": "code",
   "execution_count": 45,
   "metadata": {},
   "outputs": [
    {
     "data": {
      "text/html": [
       "\n",
       "    <div class=\"bk-root\">\n",
       "        <a href=\"https://bokeh.org\" target=\"_blank\" class=\"bk-logo bk-logo-small bk-logo-notebook\"></a>\n",
       "        <span id=\"1001\">Loading BokehJS ...</span>\n",
       "    </div>"
      ]
     },
     "metadata": {},
     "output_type": "display_data"
    },
    {
     "data": {
      "application/javascript": [
       "\n",
       "(function(root) {\n",
       "  function now() {\n",
       "    return new Date();\n",
       "  }\n",
       "\n",
       "  var force = true;\n",
       "\n",
       "  if (typeof root._bokeh_onload_callbacks === \"undefined\" || force === true) {\n",
       "    root._bokeh_onload_callbacks = [];\n",
       "    root._bokeh_is_loading = undefined;\n",
       "  }\n",
       "\n",
       "  var JS_MIME_TYPE = 'application/javascript';\n",
       "  var HTML_MIME_TYPE = 'text/html';\n",
       "  var EXEC_MIME_TYPE = 'application/vnd.bokehjs_exec.v0+json';\n",
       "  var CLASS_NAME = 'output_bokeh rendered_html';\n",
       "\n",
       "  /**\n",
       "   * Render data to the DOM node\n",
       "   */\n",
       "  function render(props, node) {\n",
       "    var script = document.createElement(\"script\");\n",
       "    node.appendChild(script);\n",
       "  }\n",
       "\n",
       "  /**\n",
       "   * Handle when an output is cleared or removed\n",
       "   */\n",
       "  function handleClearOutput(event, handle) {\n",
       "    var cell = handle.cell;\n",
       "\n",
       "    var id = cell.output_area._bokeh_element_id;\n",
       "    var server_id = cell.output_area._bokeh_server_id;\n",
       "    // Clean up Bokeh references\n",
       "    if (id != null && id in Bokeh.index) {\n",
       "      Bokeh.index[id].model.document.clear();\n",
       "      delete Bokeh.index[id];\n",
       "    }\n",
       "\n",
       "    if (server_id !== undefined) {\n",
       "      // Clean up Bokeh references\n",
       "      var cmd = \"from bokeh.io.state import curstate; print(curstate().uuid_to_server['\" + server_id + \"'].get_sessions()[0].document.roots[0]._id)\";\n",
       "      cell.notebook.kernel.execute(cmd, {\n",
       "        iopub: {\n",
       "          output: function(msg) {\n",
       "            var id = msg.content.text.trim();\n",
       "            if (id in Bokeh.index) {\n",
       "              Bokeh.index[id].model.document.clear();\n",
       "              delete Bokeh.index[id];\n",
       "            }\n",
       "          }\n",
       "        }\n",
       "      });\n",
       "      // Destroy server and session\n",
       "      var cmd = \"import bokeh.io.notebook as ion; ion.destroy_server('\" + server_id + \"')\";\n",
       "      cell.notebook.kernel.execute(cmd);\n",
       "    }\n",
       "  }\n",
       "\n",
       "  /**\n",
       "   * Handle when a new output is added\n",
       "   */\n",
       "  function handleAddOutput(event, handle) {\n",
       "    var output_area = handle.output_area;\n",
       "    var output = handle.output;\n",
       "\n",
       "    // limit handleAddOutput to display_data with EXEC_MIME_TYPE content only\n",
       "    if ((output.output_type != \"display_data\") || (!output.data.hasOwnProperty(EXEC_MIME_TYPE))) {\n",
       "      return\n",
       "    }\n",
       "\n",
       "    var toinsert = output_area.element.find(\".\" + CLASS_NAME.split(' ')[0]);\n",
       "\n",
       "    if (output.metadata[EXEC_MIME_TYPE][\"id\"] !== undefined) {\n",
       "      toinsert[toinsert.length - 1].firstChild.textContent = output.data[JS_MIME_TYPE];\n",
       "      // store reference to embed id on output_area\n",
       "      output_area._bokeh_element_id = output.metadata[EXEC_MIME_TYPE][\"id\"];\n",
       "    }\n",
       "    if (output.metadata[EXEC_MIME_TYPE][\"server_id\"] !== undefined) {\n",
       "      var bk_div = document.createElement(\"div\");\n",
       "      bk_div.innerHTML = output.data[HTML_MIME_TYPE];\n",
       "      var script_attrs = bk_div.children[0].attributes;\n",
       "      for (var i = 0; i < script_attrs.length; i++) {\n",
       "        toinsert[toinsert.length - 1].firstChild.setAttribute(script_attrs[i].name, script_attrs[i].value);\n",
       "      }\n",
       "      // store reference to server id on output_area\n",
       "      output_area._bokeh_server_id = output.metadata[EXEC_MIME_TYPE][\"server_id\"];\n",
       "    }\n",
       "  }\n",
       "\n",
       "  function register_renderer(events, OutputArea) {\n",
       "\n",
       "    function append_mime(data, metadata, element) {\n",
       "      // create a DOM node to render to\n",
       "      var toinsert = this.create_output_subarea(\n",
       "        metadata,\n",
       "        CLASS_NAME,\n",
       "        EXEC_MIME_TYPE\n",
       "      );\n",
       "      this.keyboard_manager.register_events(toinsert);\n",
       "      // Render to node\n",
       "      var props = {data: data, metadata: metadata[EXEC_MIME_TYPE]};\n",
       "      render(props, toinsert[toinsert.length - 1]);\n",
       "      element.append(toinsert);\n",
       "      return toinsert\n",
       "    }\n",
       "\n",
       "    /* Handle when an output is cleared or removed */\n",
       "    events.on('clear_output.CodeCell', handleClearOutput);\n",
       "    events.on('delete.Cell', handleClearOutput);\n",
       "\n",
       "    /* Handle when a new output is added */\n",
       "    events.on('output_added.OutputArea', handleAddOutput);\n",
       "\n",
       "    /**\n",
       "     * Register the mime type and append_mime function with output_area\n",
       "     */\n",
       "    OutputArea.prototype.register_mime_type(EXEC_MIME_TYPE, append_mime, {\n",
       "      /* Is output safe? */\n",
       "      safe: true,\n",
       "      /* Index of renderer in `output_area.display_order` */\n",
       "      index: 0\n",
       "    });\n",
       "  }\n",
       "\n",
       "  // register the mime type if in Jupyter Notebook environment and previously unregistered\n",
       "  if (root.Jupyter !== undefined) {\n",
       "    var events = require('base/js/events');\n",
       "    var OutputArea = require('notebook/js/outputarea').OutputArea;\n",
       "\n",
       "    if (OutputArea.prototype.mime_types().indexOf(EXEC_MIME_TYPE) == -1) {\n",
       "      register_renderer(events, OutputArea);\n",
       "    }\n",
       "  }\n",
       "\n",
       "  \n",
       "  if (typeof (root._bokeh_timeout) === \"undefined\" || force === true) {\n",
       "    root._bokeh_timeout = Date.now() + 5000;\n",
       "    root._bokeh_failed_load = false;\n",
       "  }\n",
       "\n",
       "  var NB_LOAD_WARNING = {'data': {'text/html':\n",
       "     \"<div style='background-color: #fdd'>\\n\"+\n",
       "     \"<p>\\n\"+\n",
       "     \"BokehJS does not appear to have successfully loaded. If loading BokehJS from CDN, this \\n\"+\n",
       "     \"may be due to a slow or bad network connection. Possible fixes:\\n\"+\n",
       "     \"</p>\\n\"+\n",
       "     \"<ul>\\n\"+\n",
       "     \"<li>re-rerun `output_notebook()` to attempt to load from CDN again, or</li>\\n\"+\n",
       "     \"<li>use INLINE resources instead, as so:</li>\\n\"+\n",
       "     \"</ul>\\n\"+\n",
       "     \"<code>\\n\"+\n",
       "     \"from bokeh.resources import INLINE\\n\"+\n",
       "     \"output_notebook(resources=INLINE)\\n\"+\n",
       "     \"</code>\\n\"+\n",
       "     \"</div>\"}};\n",
       "\n",
       "  function display_loaded() {\n",
       "    var el = document.getElementById(\"1001\");\n",
       "    if (el != null) {\n",
       "      el.textContent = \"BokehJS is loading...\";\n",
       "    }\n",
       "    if (root.Bokeh !== undefined) {\n",
       "      if (el != null) {\n",
       "        el.textContent = \"BokehJS \" + root.Bokeh.version + \" successfully loaded.\";\n",
       "      }\n",
       "    } else if (Date.now() < root._bokeh_timeout) {\n",
       "      setTimeout(display_loaded, 100)\n",
       "    }\n",
       "  }\n",
       "\n",
       "\n",
       "  function run_callbacks() {\n",
       "    try {\n",
       "      root._bokeh_onload_callbacks.forEach(function(callback) {\n",
       "        if (callback != null)\n",
       "          callback();\n",
       "      });\n",
       "    } finally {\n",
       "      delete root._bokeh_onload_callbacks\n",
       "    }\n",
       "    console.debug(\"Bokeh: all callbacks have finished\");\n",
       "  }\n",
       "\n",
       "  function load_libs(css_urls, js_urls, callback) {\n",
       "    if (css_urls == null) css_urls = [];\n",
       "    if (js_urls == null) js_urls = [];\n",
       "\n",
       "    root._bokeh_onload_callbacks.push(callback);\n",
       "    if (root._bokeh_is_loading > 0) {\n",
       "      console.debug(\"Bokeh: BokehJS is being loaded, scheduling callback at\", now());\n",
       "      return null;\n",
       "    }\n",
       "    if (js_urls == null || js_urls.length === 0) {\n",
       "      run_callbacks();\n",
       "      return null;\n",
       "    }\n",
       "    console.debug(\"Bokeh: BokehJS not loaded, scheduling load and callback at\", now());\n",
       "    root._bokeh_is_loading = css_urls.length + js_urls.length;\n",
       "\n",
       "    function on_load() {\n",
       "      root._bokeh_is_loading--;\n",
       "      if (root._bokeh_is_loading === 0) {\n",
       "        console.debug(\"Bokeh: all BokehJS libraries/stylesheets loaded\");\n",
       "        run_callbacks()\n",
       "      }\n",
       "    }\n",
       "\n",
       "    function on_error() {\n",
       "      console.error(\"failed to load \" + url);\n",
       "    }\n",
       "\n",
       "    for (var i = 0; i < css_urls.length; i++) {\n",
       "      var url = css_urls[i];\n",
       "      const element = document.createElement(\"link\");\n",
       "      element.onload = on_load;\n",
       "      element.onerror = on_error;\n",
       "      element.rel = \"stylesheet\";\n",
       "      element.type = \"text/css\";\n",
       "      element.href = url;\n",
       "      console.debug(\"Bokeh: injecting link tag for BokehJS stylesheet: \", url);\n",
       "      document.body.appendChild(element);\n",
       "    }\n",
       "\n",
       "    for (var i = 0; i < js_urls.length; i++) {\n",
       "      var url = js_urls[i];\n",
       "      var element = document.createElement('script');\n",
       "      element.onload = on_load;\n",
       "      element.onerror = on_error;\n",
       "      element.async = false;\n",
       "      element.src = url;\n",
       "      console.debug(\"Bokeh: injecting script tag for BokehJS library: \", url);\n",
       "      document.head.appendChild(element);\n",
       "    }\n",
       "  };var element = document.getElementById(\"1001\");\n",
       "  if (element == null) {\n",
       "    console.error(\"Bokeh: ERROR: autoload.js configured with elementid '1001' but no matching script tag was found. \")\n",
       "    return false;\n",
       "  }\n",
       "\n",
       "  function inject_raw_css(css) {\n",
       "    const element = document.createElement(\"style\");\n",
       "    element.appendChild(document.createTextNode(css));\n",
       "    document.body.appendChild(element);\n",
       "  }\n",
       "\n",
       "  \n",
       "  var js_urls = [\"https://cdn.pydata.org/bokeh/release/bokeh-1.4.0.min.js\", \"https://cdn.pydata.org/bokeh/release/bokeh-widgets-1.4.0.min.js\", \"https://cdn.pydata.org/bokeh/release/bokeh-tables-1.4.0.min.js\", \"https://cdn.pydata.org/bokeh/release/bokeh-gl-1.4.0.min.js\"];\n",
       "  var css_urls = [];\n",
       "  \n",
       "\n",
       "  var inline_js = [\n",
       "    function(Bokeh) {\n",
       "      Bokeh.set_log_level(\"info\");\n",
       "    },\n",
       "    function(Bokeh) {\n",
       "    \n",
       "    \n",
       "    }\n",
       "  ];\n",
       "\n",
       "  function run_inline_js() {\n",
       "    \n",
       "    if (root.Bokeh !== undefined || force === true) {\n",
       "      \n",
       "    for (var i = 0; i < inline_js.length; i++) {\n",
       "      inline_js[i].call(root, root.Bokeh);\n",
       "    }\n",
       "    if (force === true) {\n",
       "        display_loaded();\n",
       "      }} else if (Date.now() < root._bokeh_timeout) {\n",
       "      setTimeout(run_inline_js, 100);\n",
       "    } else if (!root._bokeh_failed_load) {\n",
       "      console.log(\"Bokeh: BokehJS failed to load within specified timeout.\");\n",
       "      root._bokeh_failed_load = true;\n",
       "    } else if (force !== true) {\n",
       "      var cell = $(document.getElementById(\"1001\")).parents('.cell').data().cell;\n",
       "      cell.output_area.append_execute_result(NB_LOAD_WARNING)\n",
       "    }\n",
       "\n",
       "  }\n",
       "\n",
       "  if (root._bokeh_is_loading === 0) {\n",
       "    console.debug(\"Bokeh: BokehJS loaded, going straight to plotting\");\n",
       "    run_inline_js();\n",
       "  } else {\n",
       "    load_libs(css_urls, js_urls, function() {\n",
       "      console.debug(\"Bokeh: BokehJS plotting callback run at\", now());\n",
       "      run_inline_js();\n",
       "    });\n",
       "  }\n",
       "}(window));"
      ],
      "application/vnd.bokehjs_load.v0+json": "\n(function(root) {\n  function now() {\n    return new Date();\n  }\n\n  var force = true;\n\n  if (typeof root._bokeh_onload_callbacks === \"undefined\" || force === true) {\n    root._bokeh_onload_callbacks = [];\n    root._bokeh_is_loading = undefined;\n  }\n\n  \n\n  \n  if (typeof (root._bokeh_timeout) === \"undefined\" || force === true) {\n    root._bokeh_timeout = Date.now() + 5000;\n    root._bokeh_failed_load = false;\n  }\n\n  var NB_LOAD_WARNING = {'data': {'text/html':\n     \"<div style='background-color: #fdd'>\\n\"+\n     \"<p>\\n\"+\n     \"BokehJS does not appear to have successfully loaded. If loading BokehJS from CDN, this \\n\"+\n     \"may be due to a slow or bad network connection. Possible fixes:\\n\"+\n     \"</p>\\n\"+\n     \"<ul>\\n\"+\n     \"<li>re-rerun `output_notebook()` to attempt to load from CDN again, or</li>\\n\"+\n     \"<li>use INLINE resources instead, as so:</li>\\n\"+\n     \"</ul>\\n\"+\n     \"<code>\\n\"+\n     \"from bokeh.resources import INLINE\\n\"+\n     \"output_notebook(resources=INLINE)\\n\"+\n     \"</code>\\n\"+\n     \"</div>\"}};\n\n  function display_loaded() {\n    var el = document.getElementById(\"1001\");\n    if (el != null) {\n      el.textContent = \"BokehJS is loading...\";\n    }\n    if (root.Bokeh !== undefined) {\n      if (el != null) {\n        el.textContent = \"BokehJS \" + root.Bokeh.version + \" successfully loaded.\";\n      }\n    } else if (Date.now() < root._bokeh_timeout) {\n      setTimeout(display_loaded, 100)\n    }\n  }\n\n\n  function run_callbacks() {\n    try {\n      root._bokeh_onload_callbacks.forEach(function(callback) {\n        if (callback != null)\n          callback();\n      });\n    } finally {\n      delete root._bokeh_onload_callbacks\n    }\n    console.debug(\"Bokeh: all callbacks have finished\");\n  }\n\n  function load_libs(css_urls, js_urls, callback) {\n    if (css_urls == null) css_urls = [];\n    if (js_urls == null) js_urls = [];\n\n    root._bokeh_onload_callbacks.push(callback);\n    if (root._bokeh_is_loading > 0) {\n      console.debug(\"Bokeh: BokehJS is being loaded, scheduling callback at\", now());\n      return null;\n    }\n    if (js_urls == null || js_urls.length === 0) {\n      run_callbacks();\n      return null;\n    }\n    console.debug(\"Bokeh: BokehJS not loaded, scheduling load and callback at\", now());\n    root._bokeh_is_loading = css_urls.length + js_urls.length;\n\n    function on_load() {\n      root._bokeh_is_loading--;\n      if (root._bokeh_is_loading === 0) {\n        console.debug(\"Bokeh: all BokehJS libraries/stylesheets loaded\");\n        run_callbacks()\n      }\n    }\n\n    function on_error() {\n      console.error(\"failed to load \" + url);\n    }\n\n    for (var i = 0; i < css_urls.length; i++) {\n      var url = css_urls[i];\n      const element = document.createElement(\"link\");\n      element.onload = on_load;\n      element.onerror = on_error;\n      element.rel = \"stylesheet\";\n      element.type = \"text/css\";\n      element.href = url;\n      console.debug(\"Bokeh: injecting link tag for BokehJS stylesheet: \", url);\n      document.body.appendChild(element);\n    }\n\n    for (var i = 0; i < js_urls.length; i++) {\n      var url = js_urls[i];\n      var element = document.createElement('script');\n      element.onload = on_load;\n      element.onerror = on_error;\n      element.async = false;\n      element.src = url;\n      console.debug(\"Bokeh: injecting script tag for BokehJS library: \", url);\n      document.head.appendChild(element);\n    }\n  };var element = document.getElementById(\"1001\");\n  if (element == null) {\n    console.error(\"Bokeh: ERROR: autoload.js configured with elementid '1001' but no matching script tag was found. \")\n    return false;\n  }\n\n  function inject_raw_css(css) {\n    const element = document.createElement(\"style\");\n    element.appendChild(document.createTextNode(css));\n    document.body.appendChild(element);\n  }\n\n  \n  var js_urls = [\"https://cdn.pydata.org/bokeh/release/bokeh-1.4.0.min.js\", \"https://cdn.pydata.org/bokeh/release/bokeh-widgets-1.4.0.min.js\", \"https://cdn.pydata.org/bokeh/release/bokeh-tables-1.4.0.min.js\", \"https://cdn.pydata.org/bokeh/release/bokeh-gl-1.4.0.min.js\"];\n  var css_urls = [];\n  \n\n  var inline_js = [\n    function(Bokeh) {\n      Bokeh.set_log_level(\"info\");\n    },\n    function(Bokeh) {\n    \n    \n    }\n  ];\n\n  function run_inline_js() {\n    \n    if (root.Bokeh !== undefined || force === true) {\n      \n    for (var i = 0; i < inline_js.length; i++) {\n      inline_js[i].call(root, root.Bokeh);\n    }\n    if (force === true) {\n        display_loaded();\n      }} else if (Date.now() < root._bokeh_timeout) {\n      setTimeout(run_inline_js, 100);\n    } else if (!root._bokeh_failed_load) {\n      console.log(\"Bokeh: BokehJS failed to load within specified timeout.\");\n      root._bokeh_failed_load = true;\n    } else if (force !== true) {\n      var cell = $(document.getElementById(\"1001\")).parents('.cell').data().cell;\n      cell.output_area.append_execute_result(NB_LOAD_WARNING)\n    }\n\n  }\n\n  if (root._bokeh_is_loading === 0) {\n    console.debug(\"Bokeh: BokehJS loaded, going straight to plotting\");\n    run_inline_js();\n  } else {\n    load_libs(css_urls, js_urls, function() {\n      console.debug(\"Bokeh: BokehJS plotting callback run at\", now());\n      run_inline_js();\n    });\n  }\n}(window));"
     },
     "metadata": {},
     "output_type": "display_data"
    }
   ],
   "source": [
    "output_notebook()"
   ]
  },
  {
   "cell_type": "code",
   "execution_count": 46,
   "metadata": {},
   "outputs": [],
   "source": [
    "def make_dashboard( Humidity, Temp,title, file_name):\n",
    "    output_file(file_name,root_dir='inline',mode='relative')\n",
    "    p = figure(title=title, x_axis_label='Humidity', y_axis_label='Temperature')\n",
    "    p.scatter(Humidity.squeeze(), Temp.squeeze())\n",
    "    #p.line(Humidity.squeeze(),WindSpeed.squeeze(), line_width=4, legend=\"Visibility\")\n",
    "    show(p)"
   ]
  },
  {
   "cell_type": "code",
   "execution_count": 47,
   "metadata": {},
   "outputs": [],
   "source": [
    "Humidity = df.Humidity"
   ]
  },
  {
   "cell_type": "code",
   "execution_count": 48,
   "metadata": {},
   "outputs": [],
   "source": [
    "Temperature=df.Temperature"
   ]
  },
  {
   "cell_type": "code",
   "execution_count": 49,
   "metadata": {},
   "outputs": [],
   "source": [
    "title='Humidity as per Temperature'"
   ]
  },
  {
   "cell_type": "code",
   "execution_count": 50,
   "metadata": {},
   "outputs": [],
   "source": [
    "\n",
    "file_name = \"index.html\""
   ]
  },
  {
   "cell_type": "code",
   "execution_count": 51,
   "metadata": {},
   "outputs": [
    {
     "data": {
      "text/html": [
       "\n",
       "\n",
       "\n",
       "\n",
       "\n",
       "\n",
       "  <div class=\"bk-root\" id=\"17666fc4-090b-4a25-9d52-d1cb2def25e4\" data-root-id=\"1002\"></div>\n"
      ]
     },
     "metadata": {},
     "output_type": "display_data"
    },
    {
     "data": {
      "application/javascript": [
       "(function(root) {\n",
       "  function embed_document(root) {\n",
       "    \n",
       "  var docs_json = {\"bfbf348d-7d7f-484f-9ad2-fddb45553376\":{\"roots\":{\"references\":[{\"attributes\":{\"below\":[{\"id\":\"1013\",\"type\":\"LinearAxis\"}],\"center\":[{\"id\":\"1017\",\"type\":\"Grid\"},{\"id\":\"1022\",\"type\":\"Grid\"}],\"left\":[{\"id\":\"1018\",\"type\":\"LinearAxis\"}],\"renderers\":[{\"id\":\"1039\",\"type\":\"GlyphRenderer\"}],\"title\":{\"id\":\"1003\",\"type\":\"Title\"},\"toolbar\":{\"id\":\"1029\",\"type\":\"Toolbar\"},\"x_range\":{\"id\":\"1005\",\"type\":\"DataRange1d\"},\"x_scale\":{\"id\":\"1009\",\"type\":\"LinearScale\"},\"y_range\":{\"id\":\"1007\",\"type\":\"DataRange1d\"},\"y_scale\":{\"id\":\"1011\",\"type\":\"LinearScale\"}},\"id\":\"1002\",\"subtype\":\"Figure\",\"type\":\"Plot\"},{\"attributes\":{\"ticker\":{\"id\":\"1014\",\"type\":\"BasicTicker\"}},\"id\":\"1017\",\"type\":\"Grid\"},{\"attributes\":{},\"id\":\"1024\",\"type\":\"WheelZoomTool\"},{\"attributes\":{\"dimension\":1,\"ticker\":{\"id\":\"1019\",\"type\":\"BasicTicker\"}},\"id\":\"1022\",\"type\":\"Grid\"},{\"attributes\":{},\"id\":\"1045\",\"type\":\"BasicTickFormatter\"},{\"attributes\":{\"active_drag\":\"auto\",\"active_inspect\":\"auto\",\"active_multi\":null,\"active_scroll\":\"auto\",\"active_tap\":\"auto\",\"tools\":[{\"id\":\"1023\",\"type\":\"PanTool\"},{\"id\":\"1024\",\"type\":\"WheelZoomTool\"},{\"id\":\"1025\",\"type\":\"BoxZoomTool\"},{\"id\":\"1026\",\"type\":\"SaveTool\"},{\"id\":\"1027\",\"type\":\"ResetTool\"},{\"id\":\"1028\",\"type\":\"HelpTool\"}]},\"id\":\"1029\",\"type\":\"Toolbar\"},{\"attributes\":{\"callback\":null},\"id\":\"1005\",\"type\":\"DataRange1d\"},{\"attributes\":{},\"id\":\"1027\",\"type\":\"ResetTool\"},{\"attributes\":{},\"id\":\"1009\",\"type\":\"LinearScale\"},{\"attributes\":{\"fill_alpha\":{\"value\":0.1},\"fill_color\":{\"value\":\"#1f77b4\"},\"line_alpha\":{\"value\":0.1},\"line_color\":{\"value\":\"#1f77b4\"},\"x\":{\"field\":\"x\"},\"y\":{\"field\":\"y\"}},\"id\":\"1038\",\"type\":\"Scatter\"},{\"attributes\":{},\"id\":\"1026\",\"type\":\"SaveTool\"},{\"attributes\":{},\"id\":\"1048\",\"type\":\"UnionRenderers\"},{\"attributes\":{\"data_source\":{\"id\":\"1036\",\"type\":\"ColumnDataSource\"},\"glyph\":{\"id\":\"1037\",\"type\":\"Scatter\"},\"hover_glyph\":null,\"muted_glyph\":null,\"nonselection_glyph\":{\"id\":\"1038\",\"type\":\"Scatter\"},\"selection_glyph\":null,\"view\":{\"id\":\"1040\",\"type\":\"CDSView\"}},\"id\":\"1039\",\"type\":\"GlyphRenderer\"},{\"attributes\":{\"fill_color\":{\"value\":\"#1f77b4\"},\"line_color\":{\"value\":\"#1f77b4\"},\"x\":{\"field\":\"x\"},\"y\":{\"field\":\"y\"}},\"id\":\"1037\",\"type\":\"Scatter\"},{\"attributes\":{},\"id\":\"1011\",\"type\":\"LinearScale\"},{\"attributes\":{},\"id\":\"1014\",\"type\":\"BasicTicker\"},{\"attributes\":{},\"id\":\"1023\",\"type\":\"PanTool\"},{\"attributes\":{\"overlay\":{\"id\":\"1046\",\"type\":\"BoxAnnotation\"}},\"id\":\"1025\",\"type\":\"BoxZoomTool\"},{\"attributes\":{\"text\":\"Humidity as per Temperature\"},\"id\":\"1003\",\"type\":\"Title\"},{\"attributes\":{},\"id\":\"1019\",\"type\":\"BasicTicker\"},{\"attributes\":{\"axis_label\":\"Temperature\",\"formatter\":{\"id\":\"1043\",\"type\":\"BasicTickFormatter\"},\"ticker\":{\"id\":\"1019\",\"type\":\"BasicTicker\"}},\"id\":\"1018\",\"type\":\"LinearAxis\"},{\"attributes\":{\"callback\":null},\"id\":\"1007\",\"type\":\"DataRange1d\"},{\"attributes\":{\"source\":{\"id\":\"1036\",\"type\":\"ColumnDataSource\"}},\"id\":\"1040\",\"type\":\"CDSView\"},{\"attributes\":{\"callback\":null,\"data\":{\"x\":[56,58,72,81,78,72,72,68,65,62,59,54,50,55,65,68,74,74,77,74,77,77,73,70,61,73,69,73,70,58,57,57,57,57,55,55,56,54,53,53,51,52,50,45,42,40,44,40,42,61,42,44,44,46,46,51,54,57,60,64,64,67,61,49,52,54,47,53,56,58,58,55,58,58,61,54,56,56,56,61,64,61,58,54,52,54,50,46,46,42,41,42,46,50,55,57,57,60,60,61,60,71,77,77,77,77,77,74,74,74,71,65,63,60,63,63,65,65,65,65,71,66,62,65,61,65,60,62,65,62,64,64,62,62,57,55,53,45,45,50,54,54,56,58,60,65,71,71,66,61,70,71,71,77,77,77,79,78,64,55,43,42,37,42,40,41,51,58,65,68,65,67,67,70,61,73,72,72,73,73,75,72,72,72,72,69,69,69,63,66,66,63,66,66,72,71,78,78,78,61,78,75,75,78,81,78,78,71,60,56,49,46,55,54,57,60,62,65,65,65,65,62,62,60,61,62,62,60,60,62,65,65,60,56,52,55,52,49,48,52,54,57,61,66,71,71,71,76,76,61,76,76,73,76,73,73,63,68,54,52,50,48,54,54,68,71,70,68,70,70,76,76,82,82,61,85,85,85,82,81,69,72,66,69,69,63,53,53,51,44,44,41,53,52,55,52,67,62,59,61,62,61,67,67,70,70,73,60,57,63,66,69,69,67,66,67,64,73,75,78,76,70,70,67,61,67,65,65,65,60,63,55,51,46,48,48,50,50,45,45,50,56,58,62,68,65,63,68,68,61,68,67,70,70,70,72,59,58,52,50,53,53,57,55,62,61,64,64,67,75,72,78,72,63,61,63,63,63,63,59,59,59,59,59,57,57,53,52,52,55,53,50,55,55,55,55,52,55,57,61,62,62,62,65,62,57,50,46,38,39,34,32,31,31,30,33,39,46,56,61,66,69,72,75,61,72,72,75,75,75,75,76,67,60,55,53,50,48,46,46,48,50,56,61,61,63,66,68,68,61,71,76,79,85,89,86,89,83,83,83,82,79,73,73,70,70,73,70,65,62,64,61,59,57,61,56,58,64,69,73,85,85,82,76,68,60,53,46,46,37,34,40,40,55,55,59,64,69,64,61,62,64,70,82,82,82,82,76,70,65,61,55,54,52,51,53,55,44,51,61,54,56,65,65,61,65,55,60,62,62,62,62,62,53,51,51,51,53,49,55,48,48,48,44,44,45,42,45,45,61,46,48,50,52,54,57,54,48,48,44,45,41,38,36,36,35,43,41,41,53,65,68,65,65,61,65,68,62,57,60,55,50,44,40,37,34,30,32,32,34,34,37,41,45,49,51,54,56,56,61,75,75,75,71,63,63,55,55,58,53,50,46,45,41,37,37,34,37,39,40,44,48,52,50,61,50,49,54,57,62,67,57,44,40,37,36,35,34,34,34,36,39,42,42,42,41,43,39,41,61,43,41,52,72,72,79,78,79,79,83,79,79,76,80,76,79,77,77,77,77,77,80,77,74,61,71,77,83,85,82,79,82,79,73,73,70,65,65,65,62,67,65,67,67,70,70,73,70,70,61,67,72,72,72,72,75,75,78,72,70,70,67,62,57,58,53,43,36,46,49,47,58,61,58,61,63,63,63,71,71,69,67,64,48,37,35,32,32,30,29,30,35,40,52,56,60,65,56,58,61,56,56,52,54,60,63,56,50,47,38,28,26,24,25,29,26,25,26,26,35,36,49],\"y\":[30,30,29,28,26,25,23,21,21,21,21,21,22,22,20,18,16,15,14,13,12,11,11,11,32,10,10,10,9,9,8,7,7,8,9,10,12,13,12,12,11,9,7,6,5,4,2,3,2,32,2,1,0,-1,-1,-1,0,3,6,9,14,13,15,19,18,18,19,15,12,9,11,11,11,12,32,13,12,13,13,13,13,14,14,16,18,19,22,24,24,25,27,26,23,21,23,22,23,23,23,32,23,21,19,19,19,19,19,20,21,21,21,23,22,23,23,22,21,20,20,20,19,22,21,20,32,19,20,19,18,18,17,17,18,19,21,23,26,31,31,32,30,30,29,27,25,21,20,20,22,32,17,19,18,18,17,17,18,21,31,36,41,43,45,45,46,47,44,43,41,40,40,39,39,38,32,34,33,33,32,32,30,30,29,28,28,28,28,28,29,28,28,28,26,26,25,24,22,22,21,32,22,22,22,21,20,20,21,24,28,31,33,35,36,37,37,38,38,39,40,41,41,41,41,42,32,41,41,42,42,41,40,41,43,46,48,49,50,52,53,51,51,50,49,47,44,44,44,42,42,32,41,41,41,39,39,38,43,44,47,48,49,49,46,45,43,42,41,38,38,37,37,37,35,34,32,33,32,31,29,28,30,29,29,27,27,26,27,27,27,28,28,27,23,22,20,20,14,16,16,32,16,15,14,15,13,12,14,20,24,26,27,27,29,31,33,34,35,34,33,33,36,39,39,39,32,39,40,40,40,41,40,42,44,47,47,48,50,52,52,52,50,45,42,41,40,40,40,38,38,32,38,37,35,34,33,30,32,33,35,37,39,39,39,39,36,35,33,32,31,29,29,28,28,28,32,26,25,23,22,21,19,19,19,19,20,21,23,24,24,23,23,24,22,22,22,22,22,22,22,32,21,21,21,20,20,20,22,24,26,27,30,33,35,38,39,40,39,36,34,33,33,32,30,29,32,30,30,29,29,29,29,31,35,38,41,44,48,50,51,50,51,50,47,46,46,46,46,46,46,32,45,44,44,42,42,43,43,45,45,45,42,40,40,39,40,40,38,37,37,36,35,35,35,35,32,34,33,31,31,32,31,31,32,35,38,41,43,45,45,46,47,44,43,39,38,36,35,31,35,32,36,35,34,31,32,33,34,37,39,42,45,49,50,51,56,56,55,57,55,51,48,46,42,40,32,39,40,39,38,38,37,37,37,40,40,41,41,40,40,39,39,36,35,35,34,32,31,29,27,32,25,24,23,22,21,20,21,22,23,26,27,28,30,29,31,31,28,28,27,25,21,20,21,21,32,21,20,21,21,20,20,22,23,26,28,29,32,32,34,34,35,34,32,31,30,29,29,29,31,32,30,27,27,26,25,23,24,25,25,25,25,26,27,28,28,27,28,26,25,25,24,23,22,21,32,20,19,18,18,17,16,20,22,25,28,30,32,35,37,38,38,38,37,37,37,38,38,39,38,32,38,39,38,35,35,34,35,36,38,38,39,39,42,43,44,44,46,48,49,49,50,50,53,55,32,50,45,44,42,42,37,36,38,39,38,39,40,40,40,41,39,38,37,36,35,35,34,34,34,32,34,33,33,33,33,33,33,33,35,36,36,37,38,39,40,41,39,37,34,33,33,30,29,29,32,28,28,28,26,26,27,31,35,39,44,46,50,53,55,57,57,55,53,48,47,44,41,45,44,32,45,45,47,46,43,43,46,50,52,58,62,65,67,67,64,64,64,63,62,60,59,56]},\"selected\":{\"id\":\"1047\",\"type\":\"Selection\"},\"selection_policy\":{\"id\":\"1048\",\"type\":\"UnionRenderers\"}},\"id\":\"1036\",\"type\":\"ColumnDataSource\"},{\"attributes\":{\"axis_label\":\"Humidity\",\"formatter\":{\"id\":\"1045\",\"type\":\"BasicTickFormatter\"},\"ticker\":{\"id\":\"1014\",\"type\":\"BasicTicker\"}},\"id\":\"1013\",\"type\":\"LinearAxis\"},{\"attributes\":{},\"id\":\"1043\",\"type\":\"BasicTickFormatter\"},{\"attributes\":{},\"id\":\"1028\",\"type\":\"HelpTool\"},{\"attributes\":{\"bottom_units\":\"screen\",\"fill_alpha\":{\"value\":0.5},\"fill_color\":{\"value\":\"lightgrey\"},\"left_units\":\"screen\",\"level\":\"overlay\",\"line_alpha\":{\"value\":1.0},\"line_color\":{\"value\":\"black\"},\"line_dash\":[4,4],\"line_width\":{\"value\":2},\"render_mode\":\"css\",\"right_units\":\"screen\",\"top_units\":\"screen\"},\"id\":\"1046\",\"type\":\"BoxAnnotation\"},{\"attributes\":{},\"id\":\"1047\",\"type\":\"Selection\"}],\"root_ids\":[\"1002\"]},\"title\":\"Bokeh Application\",\"version\":\"1.4.0\"}};\n",
       "  var render_items = [{\"docid\":\"bfbf348d-7d7f-484f-9ad2-fddb45553376\",\"roots\":{\"1002\":\"17666fc4-090b-4a25-9d52-d1cb2def25e4\"}}];\n",
       "  root.Bokeh.embed.embed_items_notebook(docs_json, render_items);\n",
       "\n",
       "  }\n",
       "  if (root.Bokeh !== undefined) {\n",
       "    embed_document(root);\n",
       "  } else {\n",
       "    var attempts = 0;\n",
       "    var timer = setInterval(function(root) {\n",
       "      if (root.Bokeh !== undefined) {\n",
       "        clearInterval(timer);\n",
       "        embed_document(root);\n",
       "      } else {\n",
       "        attempts++;\n",
       "        if (attempts > 100) {\n",
       "          clearInterval(timer);\n",
       "          console.log(\"Bokeh: ERROR: Unable to run BokehJS code because BokehJS library is missing\");\n",
       "        }\n",
       "      }\n",
       "    }, 10, root)\n",
       "  }\n",
       "})(window);"
      ],
      "application/vnd.bokehjs_exec.v0+json": ""
     },
     "metadata": {
      "application/vnd.bokehjs_exec.v0+json": {
       "id": "1002"
      }
     },
     "output_type": "display_data"
    }
   ],
   "source": [
    "make_dashboard(Humidity=Humidity, Temp=Temperature, title=title, file_name=file_name)"
   ]
  },
  {
   "cell_type": "code",
   "execution_count": null,
   "metadata": {},
   "outputs": [],
   "source": []
  }
 ],
 "metadata": {
  "kernelspec": {
   "display_name": "Python 3",
   "language": "python",
   "name": "python3"
  },
  "language_info": {
   "codemirror_mode": {
    "name": "ipython",
    "version": 3
   },
   "file_extension": ".py",
   "mimetype": "text/x-python",
   "name": "python",
   "nbconvert_exporter": "python",
   "pygments_lexer": "ipython3",
   "version": "3.7.6"
  }
 },
 "nbformat": 4,
 "nbformat_minor": 4
}
